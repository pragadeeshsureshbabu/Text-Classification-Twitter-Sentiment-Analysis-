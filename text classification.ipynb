{
 "cells": [
  {
   "cell_type": "markdown",
   "metadata": {},
   "source": [
    "## Importing the Dataset"
   ]
  },
  {
   "cell_type": "code",
   "execution_count": 275,
   "metadata": {},
   "outputs": [
    {
     "name": "stdout",
     "output_type": "stream",
     "text": [
      "[nltk_data] Downloading package stopwords to\n",
      "[nltk_data]     C:\\Users\\praga\\AppData\\Roaming\\nltk_data...\n",
      "[nltk_data]   Package stopwords is already up-to-date!\n"
     ]
    }
   ],
   "source": [
    "import numpy as np\n",
    "import re\n",
    "import pickle \n",
    "import nltk\n",
    "from nltk.corpus import stopwords\n",
    "from sklearn.datasets import load_files\n",
    "nltk.download('stopwords')\n",
    "\n",
    "\n",
    "# Importing the dataset\n",
    "reviews = load_files('/Users/praga/Downloads/txt_sentoken/')\n",
    "X,y = reviews.data,reviews.target"
   ]
  },
  {
   "cell_type": "code",
   "execution_count": 276,
   "metadata": {},
   "outputs": [
    {
     "data": {
      "text/plain": [
       "\"arnold schwarzenegger has been an icon for action enthusiasts , since the late 80's , but lately his films have been very sloppy and the one-liners are getting worse . \\nit's hard seeing arnold as mr . freeze in batman and robin , especially when he says tons of ice jokes , but hey he got 15 million , what's it matter to him ? \\nonce again arnold has signed to do another expensive blockbuster , that can't compare with the likes of the terminator series , true lies and even eraser . \\nin this so called dark thriller , the devil ( gabriel byrne ) has come upon earth , to impregnate a woman ( robin tunney ) which happens every 1000 years , and basically destroy the world , but apparently god has chosen one man , and that one man is jericho cane ( arnold himself ) . \\nwith the help of a trusty sidekick ( kevin pollack ) , they will stop at nothing to let the devil take over the world ! \\nparts of this are actually so absurd , that they would fit right in with dogma . \\nyes , the film is that weak , but it's better than the other blockbuster right now ( sleepy hollow ) , but it makes the world is not enough look like a 4 star film . \\nanyway , this definitely doesn't seem like an arnold movie . \\nit just wasn't the type of film you can see him doing . \\nsure he gave us a few chuckles with his well known one-liners , but he seemed confused as to where his character and the film was going . \\nit's understandable , especially when the ending had to be changed according to some sources . \\naside form that , he still walked through it , much like he has in the past few films . \\ni'm sorry to say this arnold but maybe these are the end of your action days . \\nspeaking of action , where was it in this film ? \\nthere was hardly any explosions or fights . \\nthe devil made a few places explode , but arnold wasn't kicking some devil butt . \\nthe ending was changed to make it more spiritual , which undoubtedly ruined the film . \\ni was at least hoping for a cool ending if nothing else occurred , but once again i was let down . \\ni also don't know why the film took so long and cost so much . \\nthere was really no super affects at all , unless you consider an invisible devil , who was in it for 5 minutes tops , worth the overpriced budget . \\nthe budget should have gone into a better script , where at least audiences could be somewhat entertained instead of facing boredom . \\nit's pitiful to see how scripts like these get bought and made into a movie . \\ndo they even read these things anymore ? \\nit sure doesn't seem like it . \\nthankfully gabriel's performance gave some light to this poor film . \\nwhen he walks down the street searching for robin tunney , you can't help but feel that he looked like a devil . \\nthe guy is creepy looking anyway ! \\nwhen it's all over , you're just glad it's the end of the movie . \\ndon't bother to see this , if you're expecting a solid action flick , because it's neither solid nor does it have action . \\nit's just another movie that we are suckered in to seeing , due to a strategic marketing campaign . \\nsave your money and see the world is not enough for an entertaining experience . \\n\""
      ]
     },
     "execution_count": 276,
     "metadata": {},
     "output_type": "execute_result"
    }
   ],
   "source": [
    "X[0]"
   ]
  },
  {
   "cell_type": "code",
   "execution_count": 277,
   "metadata": {},
   "outputs": [
    {
     "data": {
      "text/plain": [
       "0"
      ]
     },
     "execution_count": 277,
     "metadata": {},
     "output_type": "execute_result"
    }
   ],
   "source": [
    "y[0] # indicated Negative Review"
   ]
  },
  {
   "cell_type": "code",
   "execution_count": 278,
   "metadata": {},
   "outputs": [
    {
     "data": {
      "text/plain": [
       "\"good films are hard to find these days . \\ngreat films are beyond rare . \\nproof of life , russell crowe's one-two punch of a deft kidnap and rescue thriller , is one of those rare gems . \\na taut drama laced with strong and subtle acting , an intelligent script , and masterful directing , together it delivers something virtually unheard of in the film industry these days , genuine motivation in a story that rings true . \\nconsider the strange coincidence of russell crowe's character in proof of life making the moves on a distraught wife played by meg ryan's character in the film -- all while the real russell crowe was hitching up with married woman meg ryan in the outside world . \\ni haven't seen this much chemistry between actors since mcqueen and mcgraw teamed up in peckinpah's masterpiece , the getaway . \\nbut enough with the gossip , let's get to the review . \\nthe film revolves around the kidnapping of peter bowman ( david morse ) , an american engineer working in south america who is kidnapped during a mass ambush of civilians by anti-government soldiers . \\nupon discovering his identity , the rebel soldiers decide to ransom him for $6 million . \\nthe only problem is that the company peter bowman works for is being auctioned off , and no one will step forward with the money . \\nwith no choice available to her , bowman's wife alice ( ryan ) hires terry thorne ( crowe ) , a highly skilled negotiator and rescue operative , to arrange the return of her husband . \\nbut when things go wrong -- as they always do in these situations -- terry and his team ( which includes the most surprising casting choice of the year : david caruso ) take matters into their own hands . \\nthe film is notable in that it takes this very simple story line and creates a complex and intelligent character-driven vehicle filled with well-written dialogue , shades of motivation , and convincing acting by all the actors . \\nthe script is based on both a book ( the long march to freedom ) and a magazine article pertaining to kidnap/ransom situations , and the story has been sharply pieced together by tony gilroy , screenwriter of the devil's advocate and dolores claiborne . \\nthe biggest surprise for me was not the chemistry between crowe and ryan , but that between crowe and david caruso . \\ndug out from b-movie hell , caruso pulls off a gutsy performance as crowe's right hand gun while providing most of the film's humor . \\nryan cries a lot and smokes too many cigarettes , david morse ends up getting everyone at the guerilla camp to hate him , and crowe provides another memorable acting turn as the stoic , gunslinger character of terry thorne . \\nthe most memorable pieces of the film lie in its action scenes . \\nthe bulk of those scenes , which bookend the movie , work extremely well as establishment and closure devices for all of the story's characters . \\nthe scenes are skillfully crafted and executed with amazing accuracy and poise . \\ndirector taylor hackford mixes both his old-school style of filmmaking with the dizziness of a lars von trier film . \\nproof of life is a thinking man's action movie . \\nit is a film about the choices men and women make in the face of love and war , and the sacrifices one makes for those choices -- the sacrifices that help you sleep at night . \\n\""
      ]
     },
     "execution_count": 278,
     "metadata": {},
     "output_type": "execute_result"
    }
   ],
   "source": [
    "X[1]"
   ]
  },
  {
   "cell_type": "code",
   "execution_count": 279,
   "metadata": {},
   "outputs": [
    {
     "data": {
      "text/plain": [
       "1"
      ]
     },
     "execution_count": 279,
     "metadata": {},
     "output_type": "execute_result"
    }
   ],
   "source": [
    "y[1] #indicated Positive Review"
   ]
  },
  {
   "cell_type": "code",
   "execution_count": 280,
   "metadata": {},
   "outputs": [
    {
     "data": {
      "text/plain": [
       "2000"
      ]
     },
     "execution_count": 280,
     "metadata": {},
     "output_type": "execute_result"
    }
   ],
   "source": [
    "len(X) # 1000 positive, 1000 negative classes"
   ]
  },
  {
   "cell_type": "code",
   "execution_count": 281,
   "metadata": {},
   "outputs": [
    {
     "data": {
      "text/plain": [
       "2000"
      ]
     },
     "execution_count": 281,
     "metadata": {},
     "output_type": "execute_result"
    }
   ],
   "source": [
    "len(y)"
   ]
  },
  {
   "cell_type": "markdown",
   "metadata": {},
   "source": [
    "## Pickling and Unpickling"
   ]
  },
  {
   "cell_type": "code",
   "execution_count": 282,
   "metadata": {},
   "outputs": [],
   "source": [
    "# storing as Pickle Files\n",
    "with open('/Users/praga/Downloads/X.pickle','wb') as f:\n",
    "    pickle.dump(X,f)\n",
    "    \n",
    "with open('/Users/praga/Downloads/y.pickle','wb') as f:\n",
    "    pickle.dump(y,f)\n",
    "\n"
   ]
  },
  {
   "cell_type": "code",
   "execution_count": 283,
   "metadata": {},
   "outputs": [],
   "source": [
    "# Unpickling dataset\n",
    "X_in = open('X.pickle','rb')\n",
    "y_in = open('y.pickle','rb')\n",
    "X = pickle.load(X_in)\n",
    "y = pickle.load(y_in)"
   ]
  },
  {
   "cell_type": "markdown",
   "metadata": {},
   "source": [
    "## Preprocessing the Dataset"
   ]
  },
  {
   "cell_type": "code",
   "execution_count": 284,
   "metadata": {},
   "outputs": [],
   "source": [
    "corpus = []\n",
    "for i in range(0, len(X)):\n",
    "    review = re.sub(r'\\W', ' ', str(X[i])) # remove one letter characters such as , . ' - \n",
    "    review = review.lower()                # lower case\n",
    "    review = re.sub(r'\\s+[a-z]\\s+', ' ',review) # remove one letter words\n",
    "    review = re.sub(r'^[a-z]\\s+', ' ',review)   # remove single characters at start of sentence\n",
    "    review = re.sub(r'\\s+', ' ', review)  # to remove spaces\n",
    "    corpus.append(review)    "
   ]
  },
  {
   "cell_type": "code",
   "execution_count": 285,
   "metadata": {},
   "outputs": [
    {
     "data": {
      "text/plain": [
       "'arnold schwarzenegger has been an icon for action enthusiasts since the late 80 but lately his films have been very sloppy and the one liners are getting worse it hard seeing arnold as mr freeze in batman and robin especially when he says tons of ice jokes but hey he got 15 million what it matter to him once again arnold has signed to do another expensive blockbuster that can compare with the likes of the terminator series true lies and even eraser in this so called dark thriller the devil gabriel byrne has come upon earth to impregnate woman robin tunney which happens every 1000 years and basically destroy the world but apparently god has chosen one man and that one man is jericho cane arnold himself with the help of trusty sidekick kevin pollack they will stop at nothing to let the devil take over the world parts of this are actually so absurd that they would fit right in with dogma yes the film is that weak but it better than the other blockbuster right now sleepy hollow but it makes the world is not enough look like 4 star film anyway this definitely doesn seem like an arnold movie it just wasn the type of film you can see him doing sure he gave us few chuckles with his well known one liners but he seemed confused as to where his character and the film was going it understandable especially when the ending had to be changed according to some sources aside form that he still walked through it much like he has in the past few films m sorry to say this arnold but maybe these are the end of your action days speaking of action where was it in this film there was hardly any explosions or fights the devil made few places explode but arnold wasn kicking some devil butt the ending was changed to make it more spiritual which undoubtedly ruined the film was at least hoping for cool ending if nothing else occurred but once again was let down also don know why the film took so long and cost so much there was really no super affects at all unless you consider an invisible devil who was in it for 5 minutes tops worth the overpriced budget the budget should have gone into better script where at least audiences could be somewhat entertained instead of facing boredom it pitiful to see how scripts like these get bought and made into movie do they even read these things anymore it sure doesn seem like it thankfully gabriel performance gave some light to this poor film when he walks down the street searching for robin tunney you can help but feel that he looked like devil the guy is creepy looking anyway when it all over you re just glad it the end of the movie don bother to see this if you re expecting solid action flick because it neither solid nor does it have action it just another movie that we are suckered in to seeing due to strategic marketing campaign save your money and see the world is not enough for an entertaining experience '"
      ]
     },
     "execution_count": 285,
     "metadata": {},
     "output_type": "execute_result"
    }
   ],
   "source": [
    "corpus[0]"
   ]
  },
  {
   "cell_type": "markdown",
   "metadata": {},
   "source": [
    "## Bag of Words Model"
   ]
  },
  {
   "cell_type": "code",
   "execution_count": 286,
   "metadata": {},
   "outputs": [],
   "source": [
    "from sklearn.feature_extraction.text import CountVectorizer\n",
    "vectorizer = CountVectorizer(max_features = 3000, # 3000 most frequent words as features\n",
    "                             min_df = 3,          # exludes words appearing in 3 or less than 3 corpus\n",
    "                             max_df = 0.6,        # exludes words appearing in more than 60% of corpus\n",
    "                             stop_words = stopwords.words('english')) # removes stop words\n"
   ]
  },
  {
   "cell_type": "code",
   "execution_count": 287,
   "metadata": {},
   "outputs": [],
   "source": [
    "X = vectorizer.fit_transform(corpus).toarray()"
   ]
  },
  {
   "cell_type": "code",
   "execution_count": 288,
   "metadata": {},
   "outputs": [
    {
     "name": "stdout",
     "output_type": "stream",
     "text": [
      "[[0 0 0 ... 0 0 0]\n",
      " [0 0 0 ... 0 0 0]\n",
      " [0 0 0 ... 0 0 0]\n",
      " ...\n",
      " [0 0 0 ... 0 0 0]\n",
      " [0 0 0 ... 0 0 0]\n",
      " [0 1 0 ... 0 0 0]]\n"
     ]
    }
   ],
   "source": [
    "print(X[0:10])"
   ]
  },
  {
   "cell_type": "code",
   "execution_count": 289,
   "metadata": {},
   "outputs": [
    {
     "data": {
      "text/plain": [
       "3000"
      ]
     },
     "execution_count": 289,
     "metadata": {},
     "output_type": "execute_result"
    }
   ],
   "source": [
    "len(X[0])"
   ]
  },
  {
   "cell_type": "markdown",
   "metadata": {},
   "source": [
    "## TFIDF model"
   ]
  },
  {
   "cell_type": "code",
   "execution_count": 290,
   "metadata": {},
   "outputs": [],
   "source": [
    "from sklearn.feature_extraction.text import TfidfTransformer\n",
    "transformer = TfidfTransformer()"
   ]
  },
  {
   "cell_type": "code",
   "execution_count": 291,
   "metadata": {},
   "outputs": [],
   "source": [
    "X = transformer.fit_transform(X).toarray() # converting bag of words model to TFIDF model"
   ]
  },
  {
   "cell_type": "code",
   "execution_count": 292,
   "metadata": {},
   "outputs": [
    {
     "data": {
      "text/plain": [
       "array([[0.        , 0.        , 0.        , ..., 0.        , 0.        ,\n",
       "        0.        ],\n",
       "       [0.        , 0.        , 0.        , ..., 0.        , 0.        ,\n",
       "        0.        ],\n",
       "       [0.        , 0.        , 0.        , ..., 0.        , 0.        ,\n",
       "        0.        ],\n",
       "       ...,\n",
       "       [0.        , 0.        , 0.        , ..., 0.        , 0.        ,\n",
       "        0.        ],\n",
       "       [0.        , 0.        , 0.        , ..., 0.        , 0.        ,\n",
       "        0.        ],\n",
       "       [0.        , 0.06443538, 0.        , ..., 0.        , 0.        ,\n",
       "        0.        ]])"
      ]
     },
     "execution_count": 292,
     "metadata": {},
     "output_type": "execute_result"
    }
   ],
   "source": [
    "X[0:10]"
   ]
  },
  {
   "cell_type": "code",
   "execution_count": 293,
   "metadata": {},
   "outputs": [
    {
     "data": {
      "text/plain": [
       "{0.0,\n",
       " 0.0221003171712028,\n",
       " 0.022541925402130597,\n",
       " 0.022800619827195213,\n",
       " 0.022918597728650427,\n",
       " 0.02323811445090185,\n",
       " 0.023647960848482634,\n",
       " 0.02552831385152568,\n",
       " 0.025897364868670673,\n",
       " 0.027902966540636388,\n",
       " 0.028515768852630626,\n",
       " 0.028792471555060976,\n",
       " 0.029446082364716,\n",
       " 0.029487955943464546,\n",
       " 0.029870516935955247,\n",
       " 0.030241603372033386,\n",
       " 0.030330354517940042,\n",
       " 0.030851798374917812,\n",
       " 0.030874912852950395,\n",
       " 0.03113170280495772,\n",
       " 0.031226251806465904,\n",
       " 0.031249988373347325,\n",
       " 0.031417271788367285,\n",
       " 0.0316842191169229,\n",
       " 0.03210697065569742,\n",
       " 0.03238742296241644,\n",
       " 0.03416910723275282,\n",
       " 0.034826960427759596,\n",
       " 0.03498084838339925,\n",
       " 0.035230613942288345,\n",
       " 0.036447015641086836,\n",
       " 0.037259660354127276,\n",
       " 0.037590842363297225,\n",
       " 0.03831662160197629,\n",
       " 0.038395236767330754,\n",
       " 0.03920645927910752,\n",
       " 0.0395017755867273,\n",
       " 0.039803404474263684,\n",
       " 0.039890781754574466,\n",
       " 0.041762579094563566,\n",
       " 0.04211728250793498,\n",
       " 0.04216869016290847,\n",
       " 0.0422720707401824,\n",
       " 0.042963161807521265,\n",
       " 0.04340590826295008,\n",
       " 0.04357558628744057,\n",
       " 0.04363260206473759,\n",
       " 0.04412620061653328,\n",
       " 0.04451669399477139,\n",
       " 0.04457765039920482,\n",
       " 0.0450750194390904,\n",
       " 0.04513844150397747,\n",
       " 0.045266147223373625,\n",
       " 0.04559056118172617,\n",
       " 0.04585557151825522,\n",
       " 0.04598996668346698,\n",
       " 0.04647069297383087,\n",
       " 0.04718716083923659,\n",
       " 0.04771125131036047,\n",
       " 0.04778773597285232,\n",
       " 0.04794196030229707,\n",
       " 0.04801970918043043,\n",
       " 0.04809788880246833,\n",
       " 0.0481765039678228,\n",
       " 0.048255559556569065,\n",
       " 0.04849541891239513,\n",
       " 0.04865762053366715,\n",
       " 0.04873942589716482,\n",
       " 0.0489044732252358,\n",
       " 0.04924047447233337,\n",
       " 0.049325739902044016,\n",
       " 0.04949783210418966,\n",
       " 0.04958467167475573,\n",
       " 0.049759970645619586,\n",
       " 0.049937474692772606,\n",
       " 0.05048379010571294,\n",
       " 0.05105211062943725,\n",
       " 0.05154384629505561,\n",
       " 0.05302416784032531,\n",
       " 0.053503692481670875,\n",
       " 0.05417683267742367,\n",
       " 0.05423861088024973,\n",
       " 0.05504741442386567,\n",
       " 0.0551762864216776,\n",
       " 0.055570118094764004,\n",
       " 0.05558194165658533,\n",
       " 0.05603171645639607,\n",
       " 0.05611293061934484,\n",
       " 0.057265520816877254,\n",
       " 0.05756900317334436,\n",
       " 0.057879156002960376,\n",
       " 0.058518347723155215,\n",
       " 0.05852069309765687,\n",
       " 0.05902174167282541,\n",
       " 0.0591863734988194,\n",
       " 0.05989850719924532,\n",
       " 0.06026505730620498,\n",
       " 0.06045196580934338,\n",
       " 0.06083337782992929,\n",
       " 0.06102802071839902,\n",
       " 0.06122538597317097,\n",
       " 0.061628595852014766,\n",
       " 0.06204366653061859,\n",
       " 0.06225587181797471,\n",
       " 0.06254752986892625,\n",
       " 0.06336757916986517,\n",
       " 0.06482868162435772,\n",
       " 0.06508761339706942,\n",
       " 0.06562018172106697,\n",
       " 0.06566423761789937,\n",
       " 0.06589419781983688,\n",
       " 0.06645872852597864,\n",
       " 0.0673502703738364,\n",
       " 0.06797754633979634,\n",
       " 0.06897405806680128,\n",
       " 0.06932250504660367,\n",
       " 0.07004632450669702,\n",
       " 0.07042265042678321,\n",
       " 0.07052429555633527,\n",
       " 0.07080928791889106,\n",
       " 0.07120681802881786,\n",
       " 0.07135726413832544,\n",
       " 0.07161587234165853,\n",
       " 0.07248499845064553,\n",
       " 0.0743556827442565,\n",
       " 0.0754811333858413,\n",
       " 0.07742830342380617,\n",
       " 0.0777588135402884,\n",
       " 0.07982759170718907,\n",
       " 0.08225320627430867,\n",
       " 0.09683002387762454,\n",
       " 0.09702790466756758,\n",
       " 0.0996968871458847,\n",
       " 0.10096758021142588,\n",
       " 0.10516383210475595,\n",
       " 0.12128276645258233,\n",
       " 0.12245077194634194,\n",
       " 0.12280964379563088,\n",
       " 0.12396422640254247,\n",
       " 0.12965736324871543,\n",
       " 0.150802897843118,\n",
       " 0.1587895399122996,\n",
       " 0.16363014835315,\n",
       " 0.40049817144132405,\n",
       " 0.49566501543223745}"
      ]
     },
     "execution_count": 293,
     "metadata": {},
     "output_type": "execute_result"
    }
   ],
   "source": [
    "set(X[0][:])"
   ]
  },
  {
   "cell_type": "code",
   "execution_count": 294,
   "metadata": {},
   "outputs": [],
   "source": [
    "# Creating the Tf-Idf model directly\n",
    "#from sklearn.feature_extraction.text import TfidfVectorizer\n",
    "#vectorizer = TfidfVectorizer(max_features = 2000, min_df = 3, max_df = 0.6, stop_words = stopwords.words('english'))\n",
    "#X = vectorizer.fit_transform(corpus).toarray()"
   ]
  },
  {
   "cell_type": "markdown",
   "metadata": {},
   "source": [
    "## Creating Training and Testing Set"
   ]
  },
  {
   "cell_type": "code",
   "execution_count": 295,
   "metadata": {},
   "outputs": [],
   "source": [
    "from sklearn.model_selection import train_test_split\n",
    "text_train, text_test, sent_train, sent_test = train_test_split(X, y, test_size = 0.20 , random_state = 1)"
   ]
  },
  {
   "cell_type": "markdown",
   "metadata": {},
   "source": [
    "## Training the Classifier"
   ]
  },
  {
   "cell_type": "markdown",
   "metadata": {},
   "source": [
    "### Logistic Regression"
   ]
  },
  {
   "cell_type": "code",
   "execution_count": 296,
   "metadata": {},
   "outputs": [
    {
     "data": {
      "text/plain": [
       "LogisticRegression(C=1.0, class_weight=None, dual=False, fit_intercept=True,\n",
       "          intercept_scaling=1, max_iter=100, multi_class='ovr', n_jobs=1,\n",
       "          penalty='l2', random_state=None, solver='liblinear', tol=0.0001,\n",
       "          verbose=0, warm_start=False)"
      ]
     },
     "execution_count": 296,
     "metadata": {},
     "output_type": "execute_result"
    }
   ],
   "source": [
    "from sklearn.linear_model import LogisticRegression\n",
    "classifier = LogisticRegression()\n",
    "classifier.fit(text_train,sent_train)"
   ]
  },
  {
   "cell_type": "markdown",
   "metadata": {},
   "source": [
    "### Prediction"
   ]
  },
  {
   "cell_type": "code",
   "execution_count": 297,
   "metadata": {},
   "outputs": [],
   "source": [
    "sent_pred = classifier.predict(text_test)"
   ]
  },
  {
   "cell_type": "markdown",
   "metadata": {},
   "source": [
    "### Model Performance"
   ]
  },
  {
   "cell_type": "code",
   "execution_count": 298,
   "metadata": {},
   "outputs": [
    {
     "data": {
      "text/plain": [
       "array([[169,  22],\n",
       "       [ 30, 179]], dtype=int64)"
      ]
     },
     "execution_count": 298,
     "metadata": {},
     "output_type": "execute_result"
    }
   ],
   "source": [
    "from sklearn.metrics import confusion_matrix\n",
    "cm = confusion_matrix(sent_test, sent_pred)\n",
    "cm"
   ]
  },
  {
   "cell_type": "code",
   "execution_count": 299,
   "metadata": {},
   "outputs": [
    {
     "name": "stdout",
     "output_type": "stream",
     "text": [
      "The accuracy is 87.0 %.\n"
     ]
    }
   ],
   "source": [
    "print\"The accuracy is\",(float(cm[0][0]+cm[1][1]))/4,\"%.\""
   ]
  },
  {
   "cell_type": "markdown",
   "metadata": {},
   "source": [
    "### Testing the model"
   ]
  },
  {
   "cell_type": "code",
   "execution_count": 300,
   "metadata": {},
   "outputs": [],
   "source": [
    "def analyse_sentiment(sentence):\n",
    "    sample = [sentence]\n",
    "    sample = vectorizer.transform(sample).toarray()\n",
    "    sample = transformer.fit_transform(sample).toarray()\n",
    "    sentiment = classifier.predict(sample)\n",
    "    if sentiment[0]==0:\n",
    "        print(\"It's a BAD review\")\n",
    "    elif sentiment[0]==1 :\n",
    "        print(\"It's a GOOD review\")"
   ]
  },
  {
   "cell_type": "code",
   "execution_count": 301,
   "metadata": {},
   "outputs": [
    {
     "name": "stdout",
     "output_type": "stream",
     "text": [
      "It's a GOOD review\n"
     ]
    }
   ],
   "source": [
    "analyse_sentiment(\"Christian Bale acted really well in batman movie\")"
   ]
  },
  {
   "cell_type": "code",
   "execution_count": 302,
   "metadata": {},
   "outputs": [
    {
     "name": "stdout",
     "output_type": "stream",
     "text": [
      "It's a GOOD review\n"
     ]
    }
   ],
   "source": [
    "analyse_sentiment(\"The drummer played well\")"
   ]
  },
  {
   "cell_type": "code",
   "execution_count": 303,
   "metadata": {},
   "outputs": [
    {
     "name": "stdout",
     "output_type": "stream",
     "text": [
      "It's a BAD review\n"
     ]
    }
   ],
   "source": [
    "analyse_sentiment(\"your song was bad\")"
   ]
  },
  {
   "cell_type": "code",
   "execution_count": 304,
   "metadata": {},
   "outputs": [
    {
     "name": "stdout",
     "output_type": "stream",
     "text": [
      "It's a BAD review\n"
     ]
    }
   ],
   "source": [
    "analyse_sentiment(\"You are not a nice man, have a bad life\")"
   ]
  },
  {
   "cell_type": "markdown",
   "metadata": {},
   "source": [
    "#### Failed Cases"
   ]
  },
  {
   "cell_type": "code",
   "execution_count": 305,
   "metadata": {},
   "outputs": [
    {
     "name": "stdout",
     "output_type": "stream",
     "text": [
      "It's a GOOD review\n"
     ]
    }
   ],
   "source": [
    "analyse_sentiment(\"I did not like your song\")"
   ]
  },
  {
   "cell_type": "code",
   "execution_count": 306,
   "metadata": {},
   "outputs": [
    {
     "name": "stdout",
     "output_type": "stream",
     "text": [
      "It's a GOOD review\n"
     ]
    }
   ],
   "source": [
    "analyse_sentiment(\"The singer spoiled the song\")"
   ]
  },
  {
   "cell_type": "code",
   "execution_count": 307,
   "metadata": {},
   "outputs": [
    {
     "name": "stdout",
     "output_type": "stream",
     "text": [
      "It's a BAD review\n"
     ]
    }
   ],
   "source": [
    "analyse_sentiment(\"Little did he know that he had scored the highest marks\")"
   ]
  },
  {
   "cell_type": "markdown",
   "metadata": {},
   "source": [
    "### Saving our Model"
   ]
  },
  {
   "cell_type": "code",
   "execution_count": 308,
   "metadata": {},
   "outputs": [],
   "source": [
    "# Saving our classifier\n",
    "with open('/Users/praga/Downloads/classifier.pickle','wb') as f:\n",
    "    pickle.dump(classifier,f)\n",
    "    \n",
    "# Saving the Tf-Idf model\n",
    "with open('/Users/praga/Downloads/tfidfmodel.pickle','wb') as f:\n",
    "    pickle.dump(vectorizer,f)\n",
    "    \n",
    "\n",
    "# Using our classifier\n",
    "#with open('tfidfmodel.pickle','rb') as f:\n",
    "    #tfidf = pickle.load(f)\n",
    "    \n",
    "#with open('classifier.pickle','rb') as f:\n",
    "    #clf = pickle.load(f)"
   ]
  }
 ],
 "metadata": {
  "kernelspec": {
   "display_name": "Python 2",
   "language": "python",
   "name": "python2"
  },
  "language_info": {
   "codemirror_mode": {
    "name": "ipython",
    "version": 2
   },
   "file_extension": ".py",
   "mimetype": "text/x-python",
   "name": "python",
   "nbconvert_exporter": "python",
   "pygments_lexer": "ipython2",
   "version": "2.7.14"
  }
 },
 "nbformat": 4,
 "nbformat_minor": 2
}
